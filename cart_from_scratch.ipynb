{
 "cells": [
  {
   "cell_type": "markdown",
   "metadata": {},
   "source": [
    "## Classification and Regression Tree (from scratch)\n",
    "\n",
    "##### This implementation was referenced from this [post](https://machinelearningmastery.com/implement-decision-tree-algorithm-scratch-python/)."
   ]
  },
  {
   "cell_type": "code",
   "execution_count": 1,
   "metadata": {},
   "outputs": [],
   "source": [
    "import pandas as pd\n",
    "import numpy as np"
   ]
  },
  {
   "cell_type": "code",
   "execution_count": 4,
   "metadata": {},
   "outputs": [],
   "source": [
    "def gini_index(groups, classes):\n",
    "    '''\n",
    "    Returns the gini index for a particular split which gives the group distribution as groups.\n",
    "    Classes are labels like [-1, 1] or [0, 1] or ['yes', 'no']\n",
    "    '''\n",
    "    # count all samples at the split point (all points in all groups)\n",
    "    n_instances = float(sum([len(group) for group in groups]))\n",
    "    # sum weighted Gini index for each group\n",
    "    gini = 0.0\n",
    "    for group in groups:\n",
    "        size = float(len(group)) # group size\n",
    "        if size == 0:\n",
    "            continue # Don't divide by zero :p\n",
    "        score = 0.0\n",
    "        for _class_val in classes:\n",
    "            p = [row[-1] for row in group].count(_class_val) / size\n",
    "            score += p * p\n",
    "        # weight the group score by its relative size\n",
    "        gini += (1.0 - score) * (size / n_instances)\n",
    "        \n",
    "    return gini"
   ]
  },
  {
   "cell_type": "code",
   "execution_count": 6,
   "metadata": {},
   "outputs": [
    {
     "name": "stdout",
     "output_type": "stream",
     "text": [
      "0.5\n",
      "0.0\n"
     ]
    }
   ],
   "source": [
    "# Sanity check\n",
    "print(gini_index([[[1, 1], [1, 0]], [[1, 1], [1, 0]]], [0, 1])) # 50/50 split\n",
    "print(gini_index([[[1, 0], [1, 0]], [[1, 1], [1, 1]]], [0, 1])) # Perfect split"
   ]
  },
  {
   "cell_type": "code",
   "execution_count": 8,
   "metadata": {},
   "outputs": [],
   "source": [
    "# To define a split you need two parts of information.\n",
    "# What value should split the dataset? (numerical value)\n",
    "# Whose value should split the dataest? (Index of the attribute)\n",
    "\n",
    "def _split(index, value, dataset):\n",
    "    left, right = list(), list()\n",
    "    for row in dataset:\n",
    "        if row[index] >= value:\n",
    "            right.append(row)\n",
    "        else:\n",
    "            left.append(row)\n",
    "            \n",
    "    return left, right"
   ]
  },
  {
   "cell_type": "code",
   "execution_count": 9,
   "metadata": {},
   "outputs": [],
   "source": [
    "# We need a exhaustive and greedy search for the best set of index and value pair that gives best split\n",
    "\n",
    "def get_split(dataset):\n",
    "    '''\n",
    "    Get the best split from the given dataset by using a greedy approach\n",
    "    '''\n",
    "    # Get a list of class labels\n",
    "    _labels = list(set([row[-1] for row in dataset]))\n",
    "    _index, _value, _score, _groups = 999, 999, 999, None\n",
    "    for index in range(len(dataset[0]) - 1):\n",
    "        for row in dataset:\n",
    "            groups = _split(index, row[index], dataset)\n",
    "            gini = gini_index(groups, _labels)\n",
    "            if gini < _score:\n",
    "                _index = index\n",
    "                _value = row[index]\n",
    "                _groups = groups\n",
    "                _score = gini\n",
    "                \n",
    "    return {'index': _index, 'value': _value, 'groups': _groups}"
   ]
  },
  {
   "cell_type": "code",
   "execution_count": 10,
   "metadata": {},
   "outputs": [],
   "source": [
    "# Now that we can generate a split from a dataset, let's apply this recursively to generate a binary tree."
   ]
  },
  {
   "cell_type": "code",
   "execution_count": 15,
   "metadata": {},
   "outputs": [],
   "source": [
    "def to_terminal(group):\n",
    "    outcomes = [row[-1] for row in group]\n",
    "    return max(set(outcomes), key=outcomes.count)\n",
    "\n",
    "def split(node, max_depth, min_size, depth):\n",
    "    '''\n",
    "    Recursively splits and creates a tree\n",
    "    '''\n",
    "    left, right = node['groups']\n",
    "    del node['groups']\n",
    "    \n",
    "    # Check if one of the groups is empty\n",
    "    if len(left) == 0 or len(right) == 0:\n",
    "        node['left'] = node['right'] = to_terminal(left + right)\n",
    "        return \n",
    "        \n",
    "    # Check if maximum depth exceeded\n",
    "    if depth > max_depth:\n",
    "        node['left'] = node['right'] = to_terminal(left + right)\n",
    "        return \n",
    "    \n",
    "    # Process left child\n",
    "    if len(left) < min_size:\n",
    "        node['left'] = to_terminal(left)\n",
    "    else:\n",
    "        node['left'] = get_split(left)\n",
    "        split(node['left'], max_depth, min_size, depth + 1)\n",
    "       \n",
    "    # Process right child\n",
    "    if len(right) < min_size:\n",
    "        node['right'] = to_terminal(right)\n",
    "    else:\n",
    "        node['right'] = get_split(right)\n",
    "        split(node['right'], max_depth, min_size, depth + 1)"
   ]
  },
  {
   "cell_type": "code",
   "execution_count": 16,
   "metadata": {},
   "outputs": [],
   "source": [
    "# Build a decision tree\n",
    "def build_tree(train, max_depth, min_size):\n",
    "    root = get_split(train)\n",
    "    split(root, max_depth, min_size, 1)\n",
    "    return root"
   ]
  },
  {
   "cell_type": "code",
   "execution_count": 17,
   "metadata": {},
   "outputs": [],
   "source": [
    "def predict(node, row):\n",
    "    if row[node['index']] < node['value']:\n",
    "        if isinstance(node['left'], dict):\n",
    "            return predict(node['left'], row)\n",
    "        else:\n",
    "            return node['left']\n",
    "    else:\n",
    "        if isinstance(node['right'], dict):\n",
    "            return predict(node['right'], row)\n",
    "        else:\n",
    "            return node['right']"
   ]
  },
  {
   "cell_type": "code",
   "execution_count": null,
   "metadata": {},
   "outputs": [],
   "source": []
  },
  {
   "cell_type": "code",
   "execution_count": null,
   "metadata": {},
   "outputs": [],
   "source": []
  }
 ],
 "metadata": {
  "kernelspec": {
   "display_name": "Python 3",
   "language": "python",
   "name": "python3"
  },
  "language_info": {
   "codemirror_mode": {
    "name": "ipython",
    "version": 3
   },
   "file_extension": ".py",
   "mimetype": "text/x-python",
   "name": "python",
   "nbconvert_exporter": "python",
   "pygments_lexer": "ipython3",
   "version": "3.6.5"
  }
 },
 "nbformat": 4,
 "nbformat_minor": 2
}
